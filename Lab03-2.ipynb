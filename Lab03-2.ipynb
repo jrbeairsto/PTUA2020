{
 "cells": [
  {
   "cell_type": "markdown",
   "metadata": {},
   "source": [
    "Extend the Python notebook from class to prompt the user for two input values\n",
    "\n",
    "1. The convergence criterion (i.e., percentage difference for stopping the loop)\n",
    "2. A sentinel value that limits the number of draws to avoid a long running program. Once the number of draws reaches this value you should have the program stop and print a message that draw limit was exceeded and report the percentage difference between the current estimate of Pi and the true value."
   ]
  },
  {
   "cell_type": "code",
   "execution_count": 12,
   "metadata": {},
   "outputs": [
    {
     "name": "stdout",
     "output_type": "stream",
     "text": [
      "Enter the covergence criterion0.1\n",
      "Enter the setinel value10\n",
      "4.0\n",
      "4.0\n",
      "4.0\n",
      "4.0\n",
      "3.2\n",
      "Draws needed:  5\n"
     ]
    }
   ],
   "source": [
    "import random\n",
    "import math\n",
    "\n",
    "n = 0 # number of points falling in the unit circle\n",
    "d = 0 # number of points falling in the unit square\n",
    "\n",
    "convergence = float(input(\"Enter the covergence criterion\"))\n",
    "sentinel = int(input(\"Enter the setinel value\"))\n",
    "\n",
    "while simulating < sentinel:\n",
    "    x = random.random()\n",
    "    y = random.random()\n",
    "    if x**2 + y**2 <= 1.0:\n",
    "        n += 1\n",
    "    d += 1\n",
    "    simulating +=1\n",
    "    ratio = 4 * n * 1./d\n",
    "    print(ratio)\n",
    "    if abs(ratio-math.pi) / math.pi <= convergence:\n",
    "        print(\"Draws needed: \", d)\n",
    "        break"
   ]
  },
  {
   "cell_type": "markdown",
   "metadata": {},
   "source": [
    "2. In a second notebook write code does the following experiment. For different values of the convergence criteria [ 0.01, 0.001, 0.0001, 0.00001] generate 10 estimates of Pi. For the four different convergence criteria have your script print the following statistics average number of draws required from the 10 runs standard deviation of the number of draws required from the 10 runs. For this second program do not use a sentinel to cap the number of draws."
   ]
  },
  {
   "cell_type": "code",
   "execution_count": 58,
   "metadata": {},
   "outputs": [
    {
     "name": "stdout",
     "output_type": "stream",
     "text": [
      "Convergence = 0.01 Mean = 26.2Standard Devation = 12.93\n",
      "Convergence = 0.001 Mean = 274.7Standard Devation = 106.58\n",
      "Convergence = 0.0001 Mean = 841Standard Devation = 295.23\n",
      "Convergence = 1e-05 Mean = 2963.6Standard Devation = 1601.22\n"
     ]
    }
   ],
   "source": [
    "import statistics\n",
    "n = 0 # number of points falling in the unit circle\n",
    "d = 0 # number of points falling in the unit square\n",
    "\n",
    "simulating = True # use as a sentinel\n",
    "convergence = [0.01, 0.001, 0.0001, 0.00001] \n",
    "\n",
    "\n",
    "for c in convergence:\n",
    "    draws = []\n",
    "    for x in range(10):\n",
    "        while simulating:\n",
    "            x = random.random()\n",
    "            y = random.random()\n",
    "            if x**2 + y**2 <= 1.0:\n",
    "                n += 1\n",
    "            d += 1\n",
    "            ratio = 4 * n * 1./d\n",
    "            #print(ratio)\n",
    "            if abs(ratio-math.pi) / math.pi <= c:\n",
    "                #print(\"Draws needed: \", d)\n",
    "                break\n",
    "        draws.append(d)\n",
    "    m = statistics.mean(draws)\n",
    "    s = round(statistics.stdev(draws),2)\n",
    "    #print(draws)\n",
    "    print(\"Convergence = \" + str(c) + \" Mean = \" + str(m) + \"Standard Devation = \" + str(s))\n"
   ]
  }
 ],
 "metadata": {
  "kernelspec": {
   "display_name": "Python 3",
   "language": "python",
   "name": "python3"
  },
  "language_info": {
   "codemirror_mode": {
    "name": "ipython",
    "version": 3
   },
   "file_extension": ".py",
   "mimetype": "text/x-python",
   "name": "python",
   "nbconvert_exporter": "python",
   "pygments_lexer": "ipython3",
   "version": "3.7.4"
  }
 },
 "nbformat": 4,
 "nbformat_minor": 2
}
